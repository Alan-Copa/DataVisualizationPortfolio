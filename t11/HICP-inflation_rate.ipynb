{
 "cells": [
  {
   "cell_type": "markdown",
   "metadata": {},
   "source": [
    "# HICP - inflation rate\n"
   ]
  },
  {
   "cell_type": "code",
   "execution_count": 19,
   "metadata": {},
   "outputs": [
    {
     "name": "stdout",
     "output_type": "stream",
     "text": [
      "Map of Europe with inflation rates saved as 'europe_inflation_rates_2023.html' and as a PDF file 'europe_inflation_rates_2023.pdf'.\n"
     ]
    }
   ],
   "source": [
    "import pandas as pd\n",
    "import plotly.express as px\n",
    "\n",
    "# Load the dataset\n",
    "file_path = 'estat_tec00118_en.csv'  # Replace with your actual file path\n",
    "data = pd.read_csv(file_path)\n",
    "\n",
    "# Filter relevant columns and drop missing values\n",
    "data = data[['geo', 'TIME_PERIOD', 'OBS_VALUE']].dropna()\n",
    "data.columns = ['Entity', 'Year', 'Value']  # Rename for consistency\n",
    "\n",
    "# Filter for 2023\n",
    "data_2023 = data[data['Year'] == 2023]\n",
    "\n",
    "# List of European countries (ensure names match dataset)\n",
    "european_countries = [\n",
    "    \"Albania\", \"Andorra\", \"Austria\", \"Belarus\", \"Belgium\", \"Bosnia and Herzegovina\", \n",
    "    \"Bulgaria\", \"Croatia\", \"Cyprus\", \"Czech Republic\", \"Denmark\", \"Estonia\", \"Finland\", \n",
    "    \"France\", \"Germany\", \"Greece\", \"Hungary\", \"Iceland\", \"Ireland\", \"Italy\", \"Kosovo\",\n",
    "    \"Latvia\", \"Liechtenstein\", \"Lithuania\", \"Luxembourg\", \"Malta\", \"Moldova\", \n",
    "    \"Monaco\", \"Montenegro\", \"Netherlands\", \"North Macedonia\", \"Norway\", \"Poland\", \n",
    "    \"Portugal\", \"Romania\", \"Russia\", \"San Marino\", \"Serbia\", \"Slovakia\", \"Slovenia\", \n",
    "    \"Spain\", \"Sweden\", \"Switzerland\", \"Turkey\", \"Ukraine\", \"United Kingdom\", \"Vatican City\"\n",
    "]\n",
    "\n",
    "# Filter the dataset for European countries only\n",
    "data_2023 = data_2023[data_2023['Entity'].isin(european_countries)]\n",
    "\n",
    "# Create a choropleth map focusing on Europe with a light-to-dark color gradient\n",
    "fig = px.choropleth(\n",
    "    data_2023,\n",
    "    locations=\"Entity\",  # Country names\n",
    "    locationmode=\"country names\",  # Map based on country names\n",
    "    color=\"Value\",  # Data to color by (continuous scale)\n",
    "    hover_name=\"Entity\",  # Country names for hover text\n",
    "    title=\"Inflation Rates in Europe (2023)\",\n",
    "    color_continuous_scale=[\"#f6e8c3\", \"#dfc27d\", \"#bf812d\", \"#8c510a\", \"#543005\"],  # Light\n",
    "    scope=\"europe\",  # Restrict map to Europe\n",
    ")\n",
    "\n",
    "# Update layout for better aesthetics\n",
    "fig.update_layout(\n",
    "    margin={\"r\": 0, \"t\": 30, \"l\": 0, \"b\": 0},\n",
    "    coloraxis_colorbar=dict(\n",
    "        title=\"Inflation Rate (%)\",\n",
    "        tickformat=\".1f\"  # Format ticks as percentages\n",
    "    ),\n",
    ")\n",
    "\n",
    "# Save the map as an HTML file for local viewing\n",
    "html_file_path = \"europe_inflation_rates_2023.html\"\n",
    "fig.write_html(html_file_path)\n",
    "\n",
    "# Save the map as a PDF file (requires `kaleido`)\n",
    "fig.write_image(\"europe_inflation_rates_2023.pdf\")\n",
    "\n",
    "print(f\"Map of Europe with inflation rates saved as '{html_file_path}' and as a PDF file 'europe_inflation_rates_2023.pdf'.\")\n"
   ]
  },
  {
   "cell_type": "code",
   "execution_count": null,
   "metadata": {},
   "outputs": [],
   "source": []
  }
 ],
 "metadata": {
  "kernelspec": {
   "display_name": "Python 3",
   "language": "python",
   "name": "python3"
  },
  "language_info": {
   "codemirror_mode": {
    "name": "ipython",
    "version": 3
   },
   "file_extension": ".py",
   "mimetype": "text/x-python",
   "name": "python",
   "nbconvert_exporter": "python",
   "pygments_lexer": "ipython3",
   "version": "3.9.6"
  }
 },
 "nbformat": 4,
 "nbformat_minor": 2
}
