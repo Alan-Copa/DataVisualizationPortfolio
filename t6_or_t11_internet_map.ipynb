{
 "cells": [
  {
   "cell_type": "markdown",
   "metadata": {},
   "source": [
    "# Landline Internet subscriptions, 1999-2022\n",
    "Subscriptions to fixed access to the public Internet with a download speed of at least 256 kbit/s"
   ]
  },
  {
   "cell_type": "code",
   "execution_count": 39,
   "metadata": {},
   "outputs": [
    {
     "name": "stderr",
     "output_type": "stream",
     "text": [
      "/var/folders/g2/zs7hs2dd4873q6pvk8647wf40000gn/T/ipykernel_87289/133161750.py:52: FutureWarning:\n",
      "\n",
      "The behavior of DataFrame concatenation with empty or all-NA entries is deprecated. In a future version, this will no longer exclude empty or all-NA columns when determining the result dtypes. To retain the old behavior, exclude the relevant entries before the concat operation.\n",
      "\n"
     ]
    }
   ],
   "source": [
    "import pandas as pd\n",
    "import plotly.express as px\n",
    "import numpy as np\n",
    "\n",
    "# Load the dataset\n",
    "file_path = 'landline-internet-subscriptions.csv'  # Replace with your actual file path\n",
    "data = pd.read_csv(file_path)\n",
    "\n",
    "# Filter relevant columns and drop missing values\n",
    "data = data[['Entity', 'Code', 'Year', 'Fixed broadband subscriptions']]\n",
    "\n",
    "# Ensure data includes all years from 1998 to 2022\n",
    "all_years = pd.DataFrame({\n",
    "    'Year': list(range(1998, 2023)),\n",
    "})\n",
    "expanded_data = pd.merge(\n",
    "    all_years.assign(key=1), \n",
    "    data[['Entity', 'Code']].drop_duplicates().assign(key=1), \n",
    "    on='key'\n",
    ").drop('key', axis=1)\n",
    "\n",
    "# Merge with the original dataset and set missing values to -1\n",
    "expanded_data = pd.merge(\n",
    "    expanded_data, \n",
    "    data, \n",
    "    on=['Entity', 'Code', 'Year'], \n",
    "    how='left'\n",
    ")\n",
    "expanded_data['Fixed broadband subscriptions'] = expanded_data['Fixed broadband subscriptions'].fillna(-1)\n",
    "\n",
    "# Assign data to intervals\n",
    "intervals = [0, 300_000, 1_000_000, 3_000_000, 10_000_000, 30_000_000, 100_000_000, 300_000_000, 1_000_000_000, np.inf]\n",
    "labels = [\"0-300k\", \"300k-1M\", \"1M-3M\", \"3M-10M\", \"10M-30M\", \"30M-100M\", \"100M-300M\", \"300M-1B\", \">1B\"]\n",
    "expanded_data['Subscription Interval'] = pd.cut(\n",
    "    expanded_data['Fixed broadband subscriptions'],\n",
    "    bins=intervals,\n",
    "    labels=labels,\n",
    "    include_lowest=True\n",
    ")\n",
    "\n",
    "# Remove \"No data\" from the color scheme\n",
    "expanded_data.loc[expanded_data['Fixed broadband subscriptions'] == -1, 'Subscription Interval'] = None\n",
    "\n",
    "# Ensure all intervals are included in the legend by adding a dummy row for each interval\n",
    "dummy_intervals = pd.DataFrame({\n",
    "    'Subscription Interval': labels,\n",
    "    'Code': [None] * len(labels),\n",
    "    'Year': [1998] * len(labels),  # Dummy year\n",
    "    'Entity': [None] * len(labels),\n",
    "    'Fixed broadband subscriptions': [None] * len(labels)\n",
    "})\n",
    "expanded_data = pd.concat([expanded_data, dummy_intervals], ignore_index=True)\n",
    "\n",
    "# Create a choropleth map with intervals and light-to-red color scale\n",
    "fig = px.choropleth(\n",
    "    expanded_data,\n",
    "    locations=\"Code\",  # ISO country codes\n",
    "    color=\"Subscription Interval\",  # Data to color by intervals\n",
    "    hover_name=\"Entity\",  # Data for hover text\n",
    "    animation_frame=\"Year\",  # Adds a slider for year\n",
    "    title=\"Fixed Broadband Subscriptions Over Time (1998-2022)\",\n",
    "    color_discrete_map={\n",
    "        \"0-300k\": \"#fff5f0\",\n",
    "        \"300k-1M\": \"#fee0d2\",\n",
    "        \"1M-3M\": \"#fcbba1\",\n",
    "        \"3M-10M\": \"#fc9272\",\n",
    "        \"10M-30M\": \"#fb6a4a\",\n",
    "        \"30M-100M\": \"#ef3b2c\",\n",
    "        \"100M-300M\": \"#cb181d\",\n",
    "        \"300M-1B\": \"#99000d\",\n",
    "        \">1B\": \"#67000d\"\n",
    "    },\n",
    "    projection=\"natural earth\",  # Map projection\n",
    ")\n",
    "\n",
    "# Update layout for better aesthetics\n",
    "fig.update_layout(\n",
    "    margin={\"r\": 0, \"t\": 30, \"l\": 0, \"b\": 0},\n",
    "    legend_title=\"Broadband Subscriptions\",\n",
    ")\n",
    "\n",
    "# Show the interactive map\n",
    "# fig.show()\n",
    "\n",
    "# save html file to show the map in a browser later \n",
    "fig.write_html(\"broadband_subscriptions.html\")\n"
   ]
  },
  {
   "cell_type": "markdown",
   "metadata": {},
   "source": []
  },
  {
   "cell_type": "markdown",
   "metadata": {},
   "source": [
    "## Start Server"
   ]
  },
  {
   "cell_type": "code",
   "execution_count": 40,
   "metadata": {},
   "outputs": [
    {
     "name": "stdout",
     "output_type": "stream",
     "text": [
      "Server started at http://localhost:8000/broadband_subscriptions.html\n"
     ]
    },
    {
     "name": "stdout",
     "output_type": "stream",
     "text": [
      "Serving HTTP on :: port 8000 (http://[::]:8000/) ...\n"
     ]
    },
    {
     "name": "stderr",
     "output_type": "stream",
     "text": [
      "::1 - - [10/Jan/2025 00:45:54] \"GET /broadband_subscriptions.html HTTP/1.1\" 200 -\n",
      "::1 - - [10/Jan/2025 00:46:01] \"GET /broadband_subscriptions.html HTTP/1.1\" 304 -\n"
     ]
    }
   ],
   "source": [
    "import os\n",
    "import subprocess\n",
    "\n",
    "# Change directory to where your HTML file is saved\n",
    "os.chdir('.')  # Replace with the actual path\n",
    "\n",
    "# Start the HTTP server\n",
    "server_process = subprocess.Popen([\"python\", \"-m\", \"http.server\", \"8000\"])\n",
    "\n",
    "print(\"Server started at http://localhost:8000/broadband_subscriptions.html\")\n"
   ]
  },
  {
   "cell_type": "markdown",
   "metadata": {},
   "source": [
    "## Stop server"
   ]
  },
  {
   "cell_type": "code",
   "execution_count": 41,
   "metadata": {},
   "outputs": [],
   "source": [
    "server_process.terminate()"
   ]
  },
  {
   "cell_type": "code",
   "execution_count": null,
   "metadata": {},
   "outputs": [],
   "source": []
  }
 ],
 "metadata": {
  "kernelspec": {
   "display_name": "base",
   "language": "python",
   "name": "python3"
  },
  "language_info": {
   "codemirror_mode": {
    "name": "ipython",
    "version": 3
   },
   "file_extension": ".py",
   "mimetype": "text/x-python",
   "name": "python",
   "nbconvert_exporter": "python",
   "pygments_lexer": "ipython3",
   "version": "3.12.2"
  }
 },
 "nbformat": 4,
 "nbformat_minor": 2
}
